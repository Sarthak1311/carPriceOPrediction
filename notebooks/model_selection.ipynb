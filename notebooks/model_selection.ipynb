{
 "cells": [
  {
   "cell_type": "code",
   "execution_count": 1,
   "id": "fe41a316",
   "metadata": {},
   "outputs": [],
   "source": [
    "import pandas as pd \n",
    "from sklearn.model_selection import train_test_split, GridSearchCV\n",
    "from sklearn.tree import DecisionTreeRegressor\n",
    "from sklearn.ensemble import RandomForestRegressor\n",
    "from sklearn.metrics import mean_squared_error, r2_score\n",
    "\n"
   ]
  },
  {
   "cell_type": "code",
   "execution_count": 21,
   "id": "125125fa",
   "metadata": {},
   "outputs": [
    {
     "name": "stdout",
     "output_type": "stream",
     "text": [
      "Collecting catboost\n",
      "  Downloading catboost-1.2.8-cp310-cp310-macosx_11_0_universal2.whl.metadata (1.4 kB)\n",
      "Collecting graphviz (from catboost)\n",
      "  Downloading graphviz-0.21-py3-none-any.whl.metadata (12 kB)\n",
      "Requirement already satisfied: matplotlib in /Users/sarthaktyagi/Desktop/projects /fraudDetection/fraudisenv/lib/python3.10/site-packages (from catboost) (3.10.3)\n",
      "Requirement already satisfied: numpy<3.0,>=1.16.0 in /Users/sarthaktyagi/Desktop/projects /fraudDetection/fraudisenv/lib/python3.10/site-packages (from catboost) (2.1.3)\n",
      "Requirement already satisfied: pandas>=0.24 in /Users/sarthaktyagi/Desktop/projects /fraudDetection/fraudisenv/lib/python3.10/site-packages (from catboost) (2.2.3)\n",
      "Requirement already satisfied: scipy in /Users/sarthaktyagi/Desktop/projects /fraudDetection/fraudisenv/lib/python3.10/site-packages (from catboost) (1.15.3)\n",
      "Collecting plotly (from catboost)\n",
      "  Downloading plotly-6.3.0-py3-none-any.whl.metadata (8.5 kB)\n",
      "Requirement already satisfied: six in /Users/sarthaktyagi/Desktop/projects /fraudDetection/fraudisenv/lib/python3.10/site-packages (from catboost) (1.17.0)\n",
      "Requirement already satisfied: python-dateutil>=2.8.2 in /Users/sarthaktyagi/Desktop/projects /fraudDetection/fraudisenv/lib/python3.10/site-packages (from pandas>=0.24->catboost) (2.9.0.post0)\n",
      "Requirement already satisfied: pytz>=2020.1 in /Users/sarthaktyagi/Desktop/projects /fraudDetection/fraudisenv/lib/python3.10/site-packages (from pandas>=0.24->catboost) (2025.2)\n",
      "Requirement already satisfied: tzdata>=2022.7 in /Users/sarthaktyagi/Desktop/projects /fraudDetection/fraudisenv/lib/python3.10/site-packages (from pandas>=0.24->catboost) (2025.2)\n",
      "Requirement already satisfied: contourpy>=1.0.1 in /Users/sarthaktyagi/Desktop/projects /fraudDetection/fraudisenv/lib/python3.10/site-packages (from matplotlib->catboost) (1.3.2)\n",
      "Requirement already satisfied: cycler>=0.10 in /Users/sarthaktyagi/Desktop/projects /fraudDetection/fraudisenv/lib/python3.10/site-packages (from matplotlib->catboost) (0.12.1)\n",
      "Requirement already satisfied: fonttools>=4.22.0 in /Users/sarthaktyagi/Desktop/projects /fraudDetection/fraudisenv/lib/python3.10/site-packages (from matplotlib->catboost) (4.58.0)\n",
      "Requirement already satisfied: kiwisolver>=1.3.1 in /Users/sarthaktyagi/Desktop/projects /fraudDetection/fraudisenv/lib/python3.10/site-packages (from matplotlib->catboost) (1.4.8)\n",
      "Requirement already satisfied: packaging>=20.0 in /Users/sarthaktyagi/Desktop/projects /fraudDetection/fraudisenv/lib/python3.10/site-packages (from matplotlib->catboost) (24.2)\n",
      "Requirement already satisfied: pillow>=8 in /Users/sarthaktyagi/Desktop/projects /fraudDetection/fraudisenv/lib/python3.10/site-packages (from matplotlib->catboost) (11.2.1)\n",
      "Requirement already satisfied: pyparsing>=2.3.1 in /Users/sarthaktyagi/Desktop/projects /fraudDetection/fraudisenv/lib/python3.10/site-packages (from matplotlib->catboost) (3.2.3)\n",
      "Requirement already satisfied: narwhals>=1.15.1 in /Users/sarthaktyagi/Desktop/projects /fraudDetection/fraudisenv/lib/python3.10/site-packages (from plotly->catboost) (1.41.0)\n",
      "Downloading catboost-1.2.8-cp310-cp310-macosx_11_0_universal2.whl (27.8 MB)\n",
      "\u001b[2K   \u001b[90m━━━━━━━━━━━━━━━━━━━━━━━━━━━━━━━━━━━━━━━━\u001b[0m \u001b[32m27.8/27.8 MB\u001b[0m \u001b[31m3.6 MB/s\u001b[0m eta \u001b[36m0:00:00\u001b[0m00:01\u001b[0m00:01\u001b[0m\n",
      "\u001b[?25hDownloading graphviz-0.21-py3-none-any.whl (47 kB)\n",
      "Downloading plotly-6.3.0-py3-none-any.whl (9.8 MB)\n",
      "\u001b[2K   \u001b[90m━━━━━━━━━━━━━━━━━━━━━━━━━━━━━━━━━━━━━━━━\u001b[0m \u001b[32m9.8/9.8 MB\u001b[0m \u001b[31m3.1 MB/s\u001b[0m eta \u001b[36m0:00:00\u001b[0ma \u001b[36m0:00:01\u001b[0m\n",
      "\u001b[?25hInstalling collected packages: plotly, graphviz, catboost\n",
      "\u001b[2K   \u001b[90m━━━━━━━━━━━━━━━━━━━━━━━━━━━━━━━━━━━━━━━━\u001b[0m \u001b[32m3/3\u001b[0m [catboost]2/3\u001b[0m [catboost]\n",
      "\u001b[1A\u001b[2KSuccessfully installed catboost-1.2.8 graphviz-0.21 plotly-6.3.0\n"
     ]
    }
   ],
   "source": [
    "!pip install catboost"
   ]
  },
  {
   "cell_type": "code",
   "execution_count": 22,
   "id": "78949cc5",
   "metadata": {},
   "outputs": [],
   "source": [
    "from catboost import CatBoostRegressor"
   ]
  },
  {
   "cell_type": "code",
   "execution_count": 2,
   "id": "852afdda",
   "metadata": {},
   "outputs": [
    {
     "data": {
      "application/vnd.microsoft.datawrangler.viewer.v0+json": {
       "columns": [
        {
         "name": "index",
         "rawType": "int64",
         "type": "integer"
        },
        {
         "name": "Odometer",
         "rawType": "float64",
         "type": "float"
        },
        {
         "name": "Price",
         "rawType": "float64",
         "type": "float"
        },
        {
         "name": "carAge",
         "rawType": "int64",
         "type": "integer"
        },
        {
         "name": "Model_Enc",
         "rawType": "float64",
         "type": "float"
        },
        {
         "name": "Company_Ford",
         "rawType": "float64",
         "type": "float"
        },
        {
         "name": "Company_Honda",
         "rawType": "float64",
         "type": "float"
        },
        {
         "name": "Company_Hyundai",
         "rawType": "float64",
         "type": "float"
        },
        {
         "name": "Company_Jeep",
         "rawType": "float64",
         "type": "float"
        },
        {
         "name": "Company_KIA",
         "rawType": "float64",
         "type": "float"
        },
        {
         "name": "Company_MG",
         "rawType": "float64",
         "type": "float"
        },
        {
         "name": "Company_Mahindra",
         "rawType": "float64",
         "type": "float"
        },
        {
         "name": "Company_Maruti",
         "rawType": "float64",
         "type": "float"
        },
        {
         "name": "Company_Mercedes",
         "rawType": "float64",
         "type": "float"
        },
        {
         "name": "Company_Nissan",
         "rawType": "float64",
         "type": "float"
        },
        {
         "name": "Company_Other",
         "rawType": "float64",
         "type": "float"
        },
        {
         "name": "Company_Renault",
         "rawType": "float64",
         "type": "float"
        },
        {
         "name": "Company_Skoda",
         "rawType": "float64",
         "type": "float"
        },
        {
         "name": "Company_Tata",
         "rawType": "float64",
         "type": "float"
        },
        {
         "name": "Company_Toyota",
         "rawType": "float64",
         "type": "float"
        },
        {
         "name": "Company_Volkswagen",
         "rawType": "float64",
         "type": "float"
        },
        {
         "name": "Fuel_Diesel",
         "rawType": "float64",
         "type": "float"
        },
        {
         "name": "Fuel_Petrol",
         "rawType": "float64",
         "type": "float"
        },
        {
         "name": "Transmission_Manual",
         "rawType": "float64",
         "type": "float"
        },
        {
         "name": "State_HR",
         "rawType": "float64",
         "type": "float"
        },
        {
         "name": "State_OTH",
         "rawType": "float64",
         "type": "float"
        },
        {
         "name": "State_UP",
         "rawType": "float64",
         "type": "float"
        }
       ],
       "ref": "aa91a7bb-d20f-4f31-ac8b-3e31286dbfaf",
       "rows": [
        [
         "0",
         "4871000.0",
         "9.49",
         "7",
         "10.46",
         "0.0",
         "0.0",
         "0.0",
         "0.0",
         "0.0",
         "0.0",
         "1.0",
         "0.0",
         "0.0",
         "0.0",
         "0.0",
         "0.0",
         "0.0",
         "0.0",
         "0.0",
         "0.0",
         "1.0",
         "0.0",
         "1.0",
         "0.0",
         "0.0",
         "0.0"
        ],
        [
         "1",
         "783000.0",
         "15.65",
         "1",
         "11.822",
         "0.0",
         "0.0",
         "0.0",
         "0.0",
         "0.0",
         "0.0",
         "0.0",
         "0.0",
         "0.0",
         "0.0",
         "0.0",
         "0.0",
         "0.0",
         "1.0",
         "0.0",
         "0.0",
         "1.0",
         "0.0",
         "1.0",
         "0.0",
         "0.0",
         "0.0"
        ],
        [
         "2",
         "5798000.0",
         "8.48",
         "3",
         "7.731666666666667",
         "0.0",
         "0.0",
         "0.0",
         "0.0",
         "0.0",
         "0.0",
         "1.0",
         "0.0",
         "0.0",
         "0.0",
         "0.0",
         "0.0",
         "0.0",
         "0.0",
         "0.0",
         "0.0",
         "1.0",
         "0.0",
         "1.0",
         "1.0",
         "0.0",
         "0.0"
        ],
        [
         "3",
         "8958000.0",
         "9.99",
         "4",
         "11.822",
         "0.0",
         "0.0",
         "0.0",
         "0.0",
         "0.0",
         "0.0",
         "0.0",
         "0.0",
         "0.0",
         "0.0",
         "0.0",
         "0.0",
         "0.0",
         "1.0",
         "0.0",
         "0.0",
         "1.0",
         "0.0",
         "1.0",
         "1.0",
         "0.0",
         "0.0"
        ],
        [
         "4",
         "3660000.0",
         "7.63",
         "3",
         "7.315",
         "0.0",
         "0.0",
         "0.0",
         "0.0",
         "0.0",
         "0.0",
         "1.0",
         "0.0",
         "0.0",
         "0.0",
         "0.0",
         "0.0",
         "0.0",
         "0.0",
         "0.0",
         "0.0",
         "1.0",
         "0.0",
         "1.0",
         "0.0",
         "0.0",
         "0.0"
        ]
       ],
       "shape": {
        "columns": 26,
        "rows": 5
       }
      },
      "text/html": [
       "<div>\n",
       "<style scoped>\n",
       "    .dataframe tbody tr th:only-of-type {\n",
       "        vertical-align: middle;\n",
       "    }\n",
       "\n",
       "    .dataframe tbody tr th {\n",
       "        vertical-align: top;\n",
       "    }\n",
       "\n",
       "    .dataframe thead th {\n",
       "        text-align: right;\n",
       "    }\n",
       "</style>\n",
       "<table border=\"1\" class=\"dataframe\">\n",
       "  <thead>\n",
       "    <tr style=\"text-align: right;\">\n",
       "      <th></th>\n",
       "      <th>Odometer</th>\n",
       "      <th>Price</th>\n",
       "      <th>carAge</th>\n",
       "      <th>Model_Enc</th>\n",
       "      <th>Company_Ford</th>\n",
       "      <th>Company_Honda</th>\n",
       "      <th>Company_Hyundai</th>\n",
       "      <th>Company_Jeep</th>\n",
       "      <th>Company_KIA</th>\n",
       "      <th>Company_MG</th>\n",
       "      <th>...</th>\n",
       "      <th>Company_Skoda</th>\n",
       "      <th>Company_Tata</th>\n",
       "      <th>Company_Toyota</th>\n",
       "      <th>Company_Volkswagen</th>\n",
       "      <th>Fuel_Diesel</th>\n",
       "      <th>Fuel_Petrol</th>\n",
       "      <th>Transmission_Manual</th>\n",
       "      <th>State_HR</th>\n",
       "      <th>State_OTH</th>\n",
       "      <th>State_UP</th>\n",
       "    </tr>\n",
       "  </thead>\n",
       "  <tbody>\n",
       "    <tr>\n",
       "      <th>0</th>\n",
       "      <td>4871000.0</td>\n",
       "      <td>9.49</td>\n",
       "      <td>7</td>\n",
       "      <td>10.460000</td>\n",
       "      <td>0.0</td>\n",
       "      <td>0.0</td>\n",
       "      <td>0.0</td>\n",
       "      <td>0.0</td>\n",
       "      <td>0.0</td>\n",
       "      <td>0.0</td>\n",
       "      <td>...</td>\n",
       "      <td>0.0</td>\n",
       "      <td>0.0</td>\n",
       "      <td>0.0</td>\n",
       "      <td>0.0</td>\n",
       "      <td>1.0</td>\n",
       "      <td>0.0</td>\n",
       "      <td>1.0</td>\n",
       "      <td>0.0</td>\n",
       "      <td>0.0</td>\n",
       "      <td>0.0</td>\n",
       "    </tr>\n",
       "    <tr>\n",
       "      <th>1</th>\n",
       "      <td>783000.0</td>\n",
       "      <td>15.65</td>\n",
       "      <td>1</td>\n",
       "      <td>11.822000</td>\n",
       "      <td>0.0</td>\n",
       "      <td>0.0</td>\n",
       "      <td>0.0</td>\n",
       "      <td>0.0</td>\n",
       "      <td>0.0</td>\n",
       "      <td>0.0</td>\n",
       "      <td>...</td>\n",
       "      <td>0.0</td>\n",
       "      <td>1.0</td>\n",
       "      <td>0.0</td>\n",
       "      <td>0.0</td>\n",
       "      <td>1.0</td>\n",
       "      <td>0.0</td>\n",
       "      <td>1.0</td>\n",
       "      <td>0.0</td>\n",
       "      <td>0.0</td>\n",
       "      <td>0.0</td>\n",
       "    </tr>\n",
       "    <tr>\n",
       "      <th>2</th>\n",
       "      <td>5798000.0</td>\n",
       "      <td>8.48</td>\n",
       "      <td>3</td>\n",
       "      <td>7.731667</td>\n",
       "      <td>0.0</td>\n",
       "      <td>0.0</td>\n",
       "      <td>0.0</td>\n",
       "      <td>0.0</td>\n",
       "      <td>0.0</td>\n",
       "      <td>0.0</td>\n",
       "      <td>...</td>\n",
       "      <td>0.0</td>\n",
       "      <td>0.0</td>\n",
       "      <td>0.0</td>\n",
       "      <td>0.0</td>\n",
       "      <td>1.0</td>\n",
       "      <td>0.0</td>\n",
       "      <td>1.0</td>\n",
       "      <td>1.0</td>\n",
       "      <td>0.0</td>\n",
       "      <td>0.0</td>\n",
       "    </tr>\n",
       "    <tr>\n",
       "      <th>3</th>\n",
       "      <td>8958000.0</td>\n",
       "      <td>9.99</td>\n",
       "      <td>4</td>\n",
       "      <td>11.822000</td>\n",
       "      <td>0.0</td>\n",
       "      <td>0.0</td>\n",
       "      <td>0.0</td>\n",
       "      <td>0.0</td>\n",
       "      <td>0.0</td>\n",
       "      <td>0.0</td>\n",
       "      <td>...</td>\n",
       "      <td>0.0</td>\n",
       "      <td>1.0</td>\n",
       "      <td>0.0</td>\n",
       "      <td>0.0</td>\n",
       "      <td>1.0</td>\n",
       "      <td>0.0</td>\n",
       "      <td>1.0</td>\n",
       "      <td>1.0</td>\n",
       "      <td>0.0</td>\n",
       "      <td>0.0</td>\n",
       "    </tr>\n",
       "    <tr>\n",
       "      <th>4</th>\n",
       "      <td>3660000.0</td>\n",
       "      <td>7.63</td>\n",
       "      <td>3</td>\n",
       "      <td>7.315000</td>\n",
       "      <td>0.0</td>\n",
       "      <td>0.0</td>\n",
       "      <td>0.0</td>\n",
       "      <td>0.0</td>\n",
       "      <td>0.0</td>\n",
       "      <td>0.0</td>\n",
       "      <td>...</td>\n",
       "      <td>0.0</td>\n",
       "      <td>0.0</td>\n",
       "      <td>0.0</td>\n",
       "      <td>0.0</td>\n",
       "      <td>1.0</td>\n",
       "      <td>0.0</td>\n",
       "      <td>1.0</td>\n",
       "      <td>0.0</td>\n",
       "      <td>0.0</td>\n",
       "      <td>0.0</td>\n",
       "    </tr>\n",
       "  </tbody>\n",
       "</table>\n",
       "<p>5 rows × 26 columns</p>\n",
       "</div>"
      ],
      "text/plain": [
       "    Odometer  Price  carAge  Model_Enc  Company_Ford  Company_Honda  \\\n",
       "0  4871000.0   9.49       7  10.460000           0.0            0.0   \n",
       "1   783000.0  15.65       1  11.822000           0.0            0.0   \n",
       "2  5798000.0   8.48       3   7.731667           0.0            0.0   \n",
       "3  8958000.0   9.99       4  11.822000           0.0            0.0   \n",
       "4  3660000.0   7.63       3   7.315000           0.0            0.0   \n",
       "\n",
       "   Company_Hyundai  Company_Jeep  Company_KIA  Company_MG  ...  Company_Skoda  \\\n",
       "0              0.0           0.0          0.0         0.0  ...            0.0   \n",
       "1              0.0           0.0          0.0         0.0  ...            0.0   \n",
       "2              0.0           0.0          0.0         0.0  ...            0.0   \n",
       "3              0.0           0.0          0.0         0.0  ...            0.0   \n",
       "4              0.0           0.0          0.0         0.0  ...            0.0   \n",
       "\n",
       "   Company_Tata  Company_Toyota  Company_Volkswagen  Fuel_Diesel  Fuel_Petrol  \\\n",
       "0           0.0             0.0                 0.0          1.0          0.0   \n",
       "1           1.0             0.0                 0.0          1.0          0.0   \n",
       "2           0.0             0.0                 0.0          1.0          0.0   \n",
       "3           1.0             0.0                 0.0          1.0          0.0   \n",
       "4           0.0             0.0                 0.0          1.0          0.0   \n",
       "\n",
       "   Transmission_Manual  State_HR  State_OTH  State_UP  \n",
       "0                  1.0       0.0        0.0       0.0  \n",
       "1                  1.0       0.0        0.0       0.0  \n",
       "2                  1.0       1.0        0.0       0.0  \n",
       "3                  1.0       1.0        0.0       0.0  \n",
       "4                  1.0       0.0        0.0       0.0  \n",
       "\n",
       "[5 rows x 26 columns]"
      ]
     },
     "execution_count": 2,
     "metadata": {},
     "output_type": "execute_result"
    }
   ],
   "source": [
    "dataForTrees = pd.read_csv('/Users/sarthaktyagi/Desktop/30days-3oprojects/car_price_prediction/data/carSpecs/dataForTreebasedAlgo.csv')\n",
    "dataForTrees.head(5)"
   ]
  },
  {
   "cell_type": "code",
   "execution_count": 3,
   "id": "0b34c188",
   "metadata": {},
   "outputs": [],
   "source": [
    "X= dataForTrees.drop(columns=['Price'])\n",
    "y = dataForTrees.Price\n",
    "X_train,X_test,y_train,y_test = train_test_split(X,y,test_size = 0.2,random_state=42)"
   ]
  },
  {
   "cell_type": "code",
   "execution_count": 4,
   "id": "04ab07a9",
   "metadata": {},
   "outputs": [
    {
     "name": "stdout",
     "output_type": "stream",
     "text": [
      "(964, 25)\n",
      "(242, 25)\n",
      "(964,)\n",
      "(242,)\n"
     ]
    }
   ],
   "source": [
    "print(X_train.shape)\n",
    "print(X_test.shape)\n",
    "print(y_train.shape)\n",
    "print(y_test.shape)"
   ]
  },
  {
   "cell_type": "code",
   "execution_count": 27,
   "id": "831cdc2d",
   "metadata": {},
   "outputs": [],
   "source": [
    "parameter = {\n",
    "    \"DecisionTreeRegressor\": {\n",
    "        \"max_depth\": [None, 5, 10, 20],\n",
    "        \"min_samples_split\": [2, 5, 10],\n",
    "        \"min_samples_leaf\": [1, 2, 4],\n",
    "        \"criterion\": [\"squared_error\", \"friedman_mse\", \"poisson\"]\n",
    "    },\n",
    "    \"RandomForestRegressor\": {\n",
    "        \"n_estimators\": [100, 200, 500],\n",
    "        \"max_depth\": [None, 10, 20],\n",
    "        \"min_samples_split\": [2, 5, 10],\n",
    "        \"min_samples_leaf\": [1, 2, 4],\n",
    "        \"max_features\": [ \"sqrt\", \"log2\"],\n",
    "        \"bootstrap\": [True, False]\n",
    "    },\n",
    "    \"CatBoostRegressor\":{\n",
    "        'depth': [4, 6, 8],\n",
    "        'learning_rate': [0.01, 0.05, 0.1],\n",
    "        'iterations': [500, 1000],\n",
    "        'l2_leaf_reg': [1, 3, 5, 7],\n",
    "        'bagging_temperature': [0.0, 0.3, 0.7],\n",
    "        'subsample': [0.7, 0.9, 1.0]\n",
    "    }\n",
    "}"
   ]
  },
  {
   "cell_type": "code",
   "execution_count": 28,
   "id": "6893fea2",
   "metadata": {},
   "outputs": [],
   "source": [
    "models = {\n",
    "    \"DecisionTreeRegressor\": DecisionTreeRegressor(random_state=42),\n",
    "    \"RandomForestRegressor\": RandomForestRegressor(random_state=42),\n",
    "    \"CatBoostRegressor\": CatBoostRegressor(loss_function='RMSE', verbose=0, random_state=42)\n",
    "}"
   ]
  },
  {
   "cell_type": "code",
   "execution_count": 29,
   "id": "5ae21e51",
   "metadata": {},
   "outputs": [
    {
     "name": "stdout",
     "output_type": "stream",
     "text": [
      "\n",
      "Running GridSearchCV for DecisionTreeRegressor...\n",
      "Best params for DecisionTreeRegressor: {'criterion': 'poisson', 'max_depth': None, 'min_samples_leaf': 2, 'min_samples_split': 2}\n",
      "MSE: 2.1586\n",
      "R2: 0.9614\n",
      "\n",
      "Running GridSearchCV for RandomForestRegressor...\n",
      "Best params for RandomForestRegressor: {'bootstrap': False, 'max_depth': None, 'max_features': 'sqrt', 'min_samples_leaf': 1, 'min_samples_split': 2, 'n_estimators': 100}\n",
      "MSE: 0.9291\n",
      "R2: 0.9834\n",
      "\n",
      "Running GridSearchCV for CatBoostRegressor...\n",
      "Best params for CatBoostRegressor: {'bagging_temperature': 0.0, 'depth': 4, 'iterations': 500, 'l2_leaf_reg': 1, 'learning_rate': 0.1, 'subsample': 1.0}\n",
      "MSE: 0.8261\n",
      "R2: 0.9852\n"
     ]
    }
   ],
   "source": [
    "best_models = {}\n",
    "\n",
    "for name, model in models.items():\n",
    "    print(f\"\\nRunning GridSearchCV for {name}...\")\n",
    "\n",
    "    grid = GridSearchCV(\n",
    "        estimator=model,\n",
    "        param_grid=parameter[name],\n",
    "        cv=3,\n",
    "        scoring='neg_mean_squared_error',\n",
    "        n_jobs=-1\n",
    "    )\n",
    "    \n",
    "    grid.fit(X_train, y_train)  \n",
    "    \n",
    "    best_models[name] = grid.best_estimator_\n",
    "    print(f\"Best params for {name}: {grid.best_params_}\")\n",
    "\n",
    "    # Evaluate\n",
    "    y_pred = grid.predict(X_test)\n",
    "    print(f\"MSE: {mean_squared_error(y_test, y_pred):.4f}\")\n",
    "    print(f\"R2: {r2_score(y_test, y_pred):.4f}\")"
   ]
  },
  {
   "cell_type": "code",
   "execution_count": 31,
   "id": "6e24d103",
   "metadata": {},
   "outputs": [],
   "source": [
    "best_model = best_models['CatBoostRegressor']\n"
   ]
  },
  {
   "cell_type": "code",
   "execution_count": 55,
   "id": "8a86f6db",
   "metadata": {},
   "outputs": [
    {
     "data": {
      "text/plain": [
       "['best_model.pkl']"
      ]
     },
     "execution_count": 55,
     "metadata": {},
     "output_type": "execute_result"
    }
   ],
   "source": [
    "import joblib\n",
    "\n",
    "joblib.dump(best_model,\"best_model.pkl\")"
   ]
  },
  {
   "cell_type": "code",
   "execution_count": 56,
   "id": "5bb21257",
   "metadata": {},
   "outputs": [],
   "source": [
    "model= joblib.load('/Users/sarthaktyagi/Desktop/30days-3oprojects/car_price_prediction/notebooks/best_model.pkl')"
   ]
  },
  {
   "cell_type": "code",
   "execution_count": 34,
   "id": "75ac0a8e",
   "metadata": {},
   "outputs": [],
   "source": [
    "y_pred = model.predict(X_test)"
   ]
  },
  {
   "cell_type": "code",
   "execution_count": 35,
   "id": "529cb59f",
   "metadata": {},
   "outputs": [
    {
     "name": "stdout",
     "output_type": "stream",
     "text": [
      "mean_squared_error: 0.8261020976742379\n",
      "mean_absolute_error: 0.5321246862420786\n",
      "r2_score: 0.9852275040989602\n"
     ]
    }
   ],
   "source": [
    "from sklearn.metrics import mean_squared_error, mean_absolute_error, r2_score\n",
    "mse = mean_squared_error(y_test,y_pred)\n",
    "mae = mean_absolute_error(y_test,y_pred)\n",
    "r2 = r2_score(y_test,y_pred)\n",
    "\n",
    "print(f\"mean_squared_error: {mse}\")\n",
    "print(f\"mean_absolute_error: {mae}\")\n",
    "print(f\"r2_score: {r2}\")"
   ]
  },
  {
   "cell_type": "code",
   "execution_count": 36,
   "id": "3007b829",
   "metadata": {},
   "outputs": [
    {
     "data": {
      "image/png": "[encoded data removed]",
      "text/plain": [
       "<Figure size 640x480 with 1 Axes>"
      ]
     },
     "metadata": {},
     "output_type": "display_data"
    }
   ],
   "source": [
    "import matplotlib.pyplot as plt\n",
    "\n",
    "residuals = y_test - y_pred\n",
    "plt.scatter(y_test, residuals)\n",
    "plt.axhline(0, color='red', linestyle='--')\n",
    "plt.xlabel(\"Actual Prices\")\n",
    "plt.ylabel(\"Residuals\")\n",
    "plt.title(\"Residual Plot\")\n",
    "plt.show()\n"
   ]
  },
  {
   "cell_type": "code",
   "execution_count": 40,
   "id": "9e6acd69",
   "metadata": {},
   "outputs": [
    {
     "name": "stdout",
     "output_type": "stream",
     "text": [
      "Train MSE: 0.1504, MAE: 0.3015, R2: 0.9963\n"
     ]
    }
   ],
   "source": [
    "y_train_pred = model.predict(X_train)\n",
    "# Metrics on training set\n",
    "mse_train = mean_squared_error(y_train, y_train_pred)\n",
    "mae_train = mean_absolute_error(y_train, y_train_pred)\n",
    "r2_train = r2_score(y_train, y_train_pred)\n",
    "\n",
    "print(f\"Train MSE: {mse_train:.4f}, MAE: {mae_train:.4f}, R2: {r2_train:.4f}\")\n"
   ]
  },
  {
   "cell_type": "code",
   "execution_count": 41,
   "id": "815c2588",
   "metadata": {},
   "outputs": [
    {
     "name": "stdout",
     "output_type": "stream",
     "text": [
      "Test MSE: 0.8261, MAE: 0.5321, R2: 0.9852\n"
     ]
    }
   ],
   "source": [
    "print(f\"Test MSE: {mse:.4f}, MAE: {mae:.4f}, R2: {r2:.4f}\")"
   ]
  },
  {
   "cell_type": "markdown",
   "id": "59fcf3b7",
   "metadata": {},
   "source": [
    "- model slightly overfitting \n",
    "- However, the difference is small and test performance is still excellent, so it’s not a major concern."
   ]
  },
  {
   "cell_type": "code",
   "execution_count": 43,
   "id": "475d3014",
   "metadata": {},
   "outputs": [
    {
     "data": {
      "image/png": "[encoded data removed]",
      "text/plain": [
       "<Figure size 640x480 with 1 Axes>"
      ]
     },
     "metadata": {},
     "output_type": "display_data"
    }
   ],
   "source": [
    "import matplotlib.pyplot as plt\n",
    "\n",
    "plt.scatter(y_test, y_pred, alpha=0.5)\n",
    "plt.plot([y_test.min(), y_test.max()], [y_test.min(), y_test.max()], 'r--')  # perfect line\n",
    "plt.xlabel(\"Actual Price\")\n",
    "plt.ylabel(\"Predicted Price\")\n",
    "plt.title(\"Actual vs Predicted Car Prices\")\n",
    "plt.show()\n"
   ]
  },
  {
   "cell_type": "markdown",
   "id": "761a1933",
   "metadata": {},
   "source": [
    "# now for the model that are affected by the scaled "
   ]
  },
  {
   "cell_type": "code",
   "execution_count": 44,
   "id": "e3422d54",
   "metadata": {},
   "outputs": [],
   "source": [
    "dataforScaledSensModel= pd.read_csv('/Users/sarthaktyagi/Desktop/30days-3oprojects/car_price_prediction/data/carSpecs/dataForScaleSensiModel.csv')"
   ]
  },
  {
   "cell_type": "code",
   "execution_count": 45,
   "id": "47107901",
   "metadata": {},
   "outputs": [
    {
     "data": {
      "text/plain": [
       "(1206, 26)"
      ]
     },
     "execution_count": 45,
     "metadata": {},
     "output_type": "execute_result"
    }
   ],
   "source": [
    "dataforScaledSensModel.shape"
   ]
  },
  {
   "cell_type": "code",
   "execution_count": 46,
   "id": "c3d2e95f",
   "metadata": {},
   "outputs": [],
   "source": [
    "X = dataforScaledSensModel.drop(columns=['Price'])\n",
    "y = dataforScaledSensModel.Price\n",
    "X_train,X_test,y_train,y_test = train_test_split(X,y,test_size = 0.2,random_state=42)"
   ]
  },
  {
   "cell_type": "code",
   "execution_count": 47,
   "id": "5d7030e5",
   "metadata": {},
   "outputs": [
    {
     "name": "stdout",
     "output_type": "stream",
     "text": [
      "(964, 25)\n",
      "(242, 25)\n",
      "(964,)\n",
      "(242,)\n"
     ]
    }
   ],
   "source": [
    "print(X_train.shape)\n",
    "print(X_test.shape)\n",
    "print(y_train.shape)\n",
    "print(y_test.shape)"
   ]
  },
  {
   "cell_type": "code",
   "execution_count": 48,
   "id": "274344bc",
   "metadata": {},
   "outputs": [],
   "source": [
    "from sklearn.linear_model import LinearRegression, Ridge, Lasso, ElasticNet\n",
    "from sklearn.svm import SVR\n",
    "from sklearn.neighbors import KNeighborsRegressor\n",
    "from sklearn.kernel_ridge import KernelRidge\n",
    "from sklearn.linear_model import SGDRegressor\n",
    "from sklearn.metrics import mean_squared_error, mean_absolute_error, r2_score\n"
   ]
  },
  {
   "cell_type": "code",
   "execution_count": 53,
   "id": "c898e635",
   "metadata": {},
   "outputs": [],
   "source": [
    "models_non_tree = {\n",
    "    \"LinearRegression\": LinearRegression(),\n",
    "    \"Ridge\": Ridge(),\n",
    "    \"Lasso\": Lasso(),\n",
    "    \"ElasticNet\": ElasticNet(),\n",
    "    \"SVR\": SVR(),\n",
    "    \"KNeighborsRegressor\": KNeighborsRegressor(),\n",
    "    \"KernelRidge\": KernelRidge(),\n",
    "    \"SGDRegressor\": SGDRegressor()\n",
    "}\n",
    "\n",
    "\n",
    "parameter_non_tree = {\n",
    "    \"LinearRegression\": {\n",
    "        \"fit_intercept\": [True, False],\n",
    "        \"positive\": [True, False]\n",
    "    },\n",
    "    \"Ridge\": {\n",
    "        \"alpha\": [0.01, 0.1, 1, 10, 100],\n",
    "        \"solver\": [\"auto\", \"svd\", \"cholesky\", \"lsqr\"]\n",
    "    },\n",
    "    \"Lasso\": {\n",
    "        \"alpha\": [0.001, 0.01, 0.1, 1, 10],\n",
    "        \"max_iter\": [1000, 5000, 10000]\n",
    "    },\n",
    "    \"ElasticNet\": {\n",
    "        \"alpha\": [0.001, 0.01, 0.1, 1],\n",
    "        \"l1_ratio\": [0.1, 0.5, 0.7, 0.9],\n",
    "        \"max_iter\": [1000, 5000]\n",
    "    },\n",
    "    \"SVR\": {\n",
    "        \"kernel\": [\"linear\", \"poly\", \"rbf\", \"sigmoid\"],\n",
    "        \"C\": [0.1, 1, 10, 100],\n",
    "        \"epsilon\": [0.01, 0.1, 0.2, 0.5],\n",
    "        \"gamma\": [\"scale\", \"auto\"]\n",
    "    },\n",
    "    \"KNeighborsRegressor\": {\n",
    "        \"n_neighbors\": [3, 5, 7, 10],\n",
    "        \"weights\": [\"uniform\", \"distance\"],\n",
    "        \"p\": [1, 2]  \n",
    "    },\n",
    "    \"KernelRidge\": {\n",
    "        \"alpha\": [0.1, 1, 10],\n",
    "        \"kernel\": [\"linear\", \"polynomial\", \"rbf\"],\n",
    "        \"gamma\": [0.01, 0.1, 1]\n",
    "    },\n",
    "    \"SGDRegressor\": {\n",
    "        \"loss\": [\"squared_error\", \"huber\", \"epsilon_insensitive\"],\n",
    "        \"penalty\": [None, \"l2\", \"l1\", \"elasticnet\"],\n",
    "        \"alpha\": [0.0001, 0.001, 0.01],\n",
    "        \"max_iter\": [1000, 5000]\n",
    "    }\n",
    "}\n"
   ]
  },
  {
   "cell_type": "code",
   "execution_count": 54,
   "id": "ad716d76",
   "metadata": {},
   "outputs": [
    {
     "name": "stdout",
     "output_type": "stream",
     "text": [
      "running grid Search cv for LinearRegression\n",
      "Best params for LinearRegression: {'fit_intercept': False, 'positive': False}\n",
      "MSE: 0.0364\n",
      "R2: 0.9716\n",
      "running grid Search cv for Ridge\n",
      "Best params for Ridge: {'alpha': 10, 'solver': 'lsqr'}\n",
      "MSE: 0.0386\n",
      "R2: 0.9699\n",
      "running grid Search cv for Lasso\n",
      "Best params for Lasso: {'alpha': 0.01, 'max_iter': 1000}\n",
      "MSE: 0.0379\n",
      "R2: 0.9705\n",
      "running grid Search cv for ElasticNet\n",
      "Best params for ElasticNet: {'alpha': 0.01, 'l1_ratio': 0.7, 'max_iter': 1000}\n",
      "MSE: 0.0377\n",
      "R2: 0.9706\n",
      "running grid Search cv for SVR\n",
      "Best params for SVR: {'C': 100, 'epsilon': 0.2, 'gamma': 'scale', 'kernel': 'linear'}\n",
      "MSE: 0.0382\n",
      "R2: 0.9702\n",
      "running grid Search cv for KNeighborsRegressor\n",
      "Best params for KNeighborsRegressor: {'n_neighbors': 7, 'p': 1, 'weights': 'distance'}\n",
      "MSE: 0.1135\n",
      "R2: 0.9116\n",
      "running grid Search cv for KernelRidge\n",
      "Best params for KernelRidge: {'alpha': 10, 'gamma': 0.01, 'kernel': 'linear'}\n",
      "MSE: 0.0386\n",
      "R2: 0.9699\n",
      "running grid Search cv for SGDRegressor\n",
      "Best params for SGDRegressor: {'alpha': 0.01, 'loss': 'epsilon_insensitive', 'max_iter': 5000, 'penalty': 'elasticnet'}\n",
      "MSE: 0.0417\n",
      "R2: 0.9675\n"
     ]
    }
   ],
   "source": [
    "best_models_non_tree = {}\n",
    "\n",
    "for name, model in models_non_tree.items():\n",
    "    print(f\"running grid Search cv for {name}\")\n",
    "\n",
    "    grid = GridSearchCV(\n",
    "        estimator=model,\n",
    "        param_grid=parameter_non_tree[name],\n",
    "        cv=3,\n",
    "        scoring='neg_mean_squared_error',\n",
    "        n_jobs=-1\n",
    "    )\n",
    "\n",
    "    grid.fit(X_train,y_train)\n",
    "\n",
    "    best_models_non_tree[name] = grid.best_estimator_\n",
    "    print(f\"Best params for {name}: {grid.best_params_}\")\n",
    "\n",
    "    # Evaluate\n",
    "    y_pred = grid.predict(X_test)\n",
    "    print(f\"MSE: {mean_squared_error(y_test, y_pred):.4f}\")\n",
    "    print(f\"R2: {r2_score(y_test, y_pred):.4f}\")"
   ]
  },
  {
   "cell_type": "markdown",
   "id": "19a752a1",
   "metadata": {},
   "source": [
    "- our goal is to get best predictive accuracy → therefore going with catboostRegressor"
   ]
  },
  {
   "cell_type": "code",
   "execution_count": null,
   "id": "c7370008",
   "metadata": {},
   "outputs": [],
   "source": []
  },
  {
   "cell_type": "code",
   "execution_count": null,
   "id": "4ca08df4",
   "metadata": {},
   "outputs": [],
   "source": []
  }
 ],
 "metadata": {
  "kernelspec": {
   "display_name": "Python 3",
   "language": "python",
   "name": "python3"
  },
  "language_info": {
   "codemirror_mode": {
    "name": "ipython",
    "version": 3
   },
   "file_extension": ".py",
   "mimetype": "text/x-python",
   "name": "python",
   "nbconvert_exporter": "python",
   "pygments_lexer": "ipython3",
   "version": "3.10.0"
  }
 },
 "nbformat": 4,
 "nbformat_minor": 5
}
